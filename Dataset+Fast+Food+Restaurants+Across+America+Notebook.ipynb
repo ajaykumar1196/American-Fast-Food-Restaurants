{
 "cells": [
  {
   "cell_type": "markdown",
   "metadata": {},
   "source": [
    "#  Fast Food Restaurants Across America"
   ]
  },
  {
   "cell_type": "markdown",
   "metadata": {},
   "source": [
    "## Import Libraries"
   ]
  },
  {
   "cell_type": "code",
   "execution_count": 2,
   "metadata": {},
   "outputs": [],
   "source": [
    "import numpy as np\n",
    "import pandas as pd\n",
    "import gmplot\n",
    "from fuzzywuzzy import process, fuzz"
   ]
  },
  {
   "cell_type": "markdown",
   "metadata": {},
   "source": [
    "## Getting the Data"
   ]
  },
  {
   "cell_type": "code",
   "execution_count": 3,
   "metadata": {
    "collapsed": true
   },
   "outputs": [],
   "source": [
    "data = pd.read_csv('FastFoodRestaurants.csv')"
   ]
  },
  {
   "cell_type": "code",
   "execution_count": 4,
   "metadata": {},
   "outputs": [],
   "source": [
    "data = data[[\"address\", \"city\", \"country\", \"latitude\", \"longitude\", \"name\", \"postalCode\", \"province\"]]"
   ]
  },
  {
   "cell_type": "code",
   "execution_count": 5,
   "metadata": {},
   "outputs": [
    {
     "data": {
      "text/html": [
       "<div>\n",
       "<style>\n",
       "    .dataframe thead tr:only-child th {\n",
       "        text-align: right;\n",
       "    }\n",
       "\n",
       "    .dataframe thead th {\n",
       "        text-align: left;\n",
       "    }\n",
       "\n",
       "    .dataframe tbody tr th {\n",
       "        vertical-align: top;\n",
       "    }\n",
       "</style>\n",
       "<table border=\"1\" class=\"dataframe\">\n",
       "  <thead>\n",
       "    <tr style=\"text-align: right;\">\n",
       "      <th></th>\n",
       "      <th>address</th>\n",
       "      <th>city</th>\n",
       "      <th>country</th>\n",
       "      <th>latitude</th>\n",
       "      <th>longitude</th>\n",
       "      <th>name</th>\n",
       "      <th>postalCode</th>\n",
       "      <th>province</th>\n",
       "    </tr>\n",
       "  </thead>\n",
       "  <tbody>\n",
       "    <tr>\n",
       "      <th>0</th>\n",
       "      <td>324 Main St</td>\n",
       "      <td>Massena</td>\n",
       "      <td>US</td>\n",
       "      <td>44.92130</td>\n",
       "      <td>-74.89021</td>\n",
       "      <td>McDonald's</td>\n",
       "      <td>13662</td>\n",
       "      <td>NY</td>\n",
       "    </tr>\n",
       "    <tr>\n",
       "      <th>1</th>\n",
       "      <td>530 Clinton Ave</td>\n",
       "      <td>Washington Court House</td>\n",
       "      <td>US</td>\n",
       "      <td>39.53255</td>\n",
       "      <td>-83.44526</td>\n",
       "      <td>Wendy's</td>\n",
       "      <td>43160</td>\n",
       "      <td>OH</td>\n",
       "    </tr>\n",
       "    <tr>\n",
       "      <th>2</th>\n",
       "      <td>408 Market Square Dr</td>\n",
       "      <td>Maysville</td>\n",
       "      <td>US</td>\n",
       "      <td>38.62736</td>\n",
       "      <td>-83.79141</td>\n",
       "      <td>Frisch's Big Boy</td>\n",
       "      <td>41056</td>\n",
       "      <td>KY</td>\n",
       "    </tr>\n",
       "    <tr>\n",
       "      <th>3</th>\n",
       "      <td>6098 State Highway 37</td>\n",
       "      <td>Massena</td>\n",
       "      <td>US</td>\n",
       "      <td>44.95008</td>\n",
       "      <td>-74.84553</td>\n",
       "      <td>McDonald's</td>\n",
       "      <td>13662</td>\n",
       "      <td>NY</td>\n",
       "    </tr>\n",
       "    <tr>\n",
       "      <th>4</th>\n",
       "      <td>139 Columbus Rd</td>\n",
       "      <td>Athens</td>\n",
       "      <td>US</td>\n",
       "      <td>39.35155</td>\n",
       "      <td>-82.09728</td>\n",
       "      <td>OMG! Rotisserie</td>\n",
       "      <td>45701</td>\n",
       "      <td>OH</td>\n",
       "    </tr>\n",
       "  </tbody>\n",
       "</table>\n",
       "</div>"
      ],
      "text/plain": [
       "                 address                    city country  latitude  longitude  \\\n",
       "0            324 Main St                 Massena      US  44.92130  -74.89021   \n",
       "1        530 Clinton Ave  Washington Court House      US  39.53255  -83.44526   \n",
       "2   408 Market Square Dr               Maysville      US  38.62736  -83.79141   \n",
       "3  6098 State Highway 37                 Massena      US  44.95008  -74.84553   \n",
       "4        139 Columbus Rd                  Athens      US  39.35155  -82.09728   \n",
       "\n",
       "               name postalCode province  \n",
       "0        McDonald's      13662       NY  \n",
       "1           Wendy's      43160       OH  \n",
       "2  Frisch's Big Boy      41056       KY  \n",
       "3        McDonald's      13662       NY  \n",
       "4   OMG! Rotisserie      45701       OH  "
      ]
     },
     "execution_count": 5,
     "metadata": {},
     "output_type": "execute_result"
    }
   ],
   "source": [
    "data.head()"
   ]
  },
  {
   "cell_type": "code",
   "execution_count": null,
   "metadata": {},
   "outputs": [],
   "source": [
    "sorted(data.name.unique())"
   ]
  },
  {
   "cell_type": "code",
   "execution_count": 6,
   "metadata": {
    "collapsed": true
   },
   "outputs": [],
   "source": [
    "data['lowername'] = data['name'].apply(lambda x : x.lower().strip())"
   ]
  },
  {
   "cell_type": "code",
   "execution_count": 7,
   "metadata": {
    "collapsed": true
   },
   "outputs": [],
   "source": [
    "unique_names = sorted(data.lowername.unique())"
   ]
  },
  {
   "cell_type": "markdown",
   "metadata": {},
   "source": [
    "## Brands with most restaurant chains"
   ]
  },
  {
   "cell_type": "code",
   "execution_count": 8,
   "metadata": {},
   "outputs": [
    {
     "data": {
      "text/plain": [
       "[\"mcdonald's\",\n",
       " 'burger king',\n",
       " 'taco bell',\n",
       " \"wendy's\",\n",
       " \"arby's\",\n",
       " 'kfc',\n",
       " 'subway',\n",
       " \"domino's pizza\"]"
      ]
     },
     "execution_count": 8,
     "metadata": {},
     "output_type": "execute_result"
    }
   ],
   "source": [
    "restaurants_counts = data.lowername.value_counts()\n",
    "restaurants_counts = restaurants_counts[restaurants_counts>250]\n",
    "restaurants_list = list(restaurants_counts.index)\n",
    "restaurants_list"
   ]
  },
  {
   "cell_type": "markdown",
   "metadata": {},
   "source": [
    "## Creating an Independent Function for replacement of the matches in the data."
   ]
  },
  {
   "cell_type": "code",
   "execution_count": 9,
   "metadata": {
    "collapsed": true
   },
   "outputs": [],
   "source": [
    "def replace_name(data, column_name, brand, threshold_ratio = 90):\n",
    "    query = data[column_name].unique()\n",
    "    results = process.extract(brand, query, limit=10, scorer=fuzz.token_sort_ratio)\n",
    "    string_matches = [results[0] for results in results if results[1] >= threshold_ratio]\n",
    "    rows_with_matches = data[column_name].isin(string_matches) \n",
    "    data.loc[rows_with_matches, column_name] = brand\n",
    "    return data.copy()"
   ]
  },
  {
   "cell_type": "markdown",
   "metadata": {},
   "source": [
    "## Tokens"
   ]
  },
  {
   "cell_type": "code",
   "execution_count": 11,
   "metadata": {},
   "outputs": [
    {
     "data": {
      "text/plain": [
       "[[(\"mcdonald's\", 100),\n",
       "  ('mcdonald’s', 100),\n",
       "  ('mcdonalds', 95),\n",
       "  (\"mcdonald's #25557\", 77),\n",
       "  (\"mc donald's\", 76),\n",
       "  (\"mcdonald's - walmart\", 71),\n",
       "  ('mc donalds', 70),\n",
       "  (\"flash foods / mcdonald's\", 62),\n",
       "  ('mcdonalds @ old atlanta', 58)],\n",
       " [('burger king', 100),\n",
       "  ('hamburger king', 88),\n",
       "  ('burger king salou', 79),\n",
       "  (\"burger's landing\", 74),\n",
       "  ('burger time', 73),\n",
       "  ('in-n-out burger', 69),\n",
       "  ('fab wings n burgers', 67),\n",
       "  ('elevation burger', 67),\n",
       "  (\"nick's burgers\", 64)],\n",
       " [('taco bell', 100),\n",
       "  ('kfc / taco bell', 82),\n",
       "  ('del taco', 82),\n",
       "  ('kfc/taco bell', 82),\n",
       "  ('taco bueno', 74),\n",
       "  ('taco local', 74),\n",
       "  ('taco delight', 67),\n",
       "  ('taco del mar', 67),\n",
       "  ('bravo tacos', 60)],\n",
       " [(\"wendy's\", 100),\n",
       "  ('wendys', 77),\n",
       "  (\"p. terry's\", 50),\n",
       "  ('los verdes', 47),\n",
       "  ('subway', 46),\n",
       "  ('subway®', 46),\n",
       "  ('wendy two two eight', 46),\n",
       "  ('pei wei', 43),\n",
       "  ('31st avenue gyro', 43)],\n",
       " [(\"arby's\", 100),\n",
       "  ('arbys', 91),\n",
       "  (\"luby's\", 67),\n",
       "  (\"arby's antigo\", 63),\n",
       "  (\"rally's\", 62),\n",
       "  ('dairy isle', 62),\n",
       "  (\"rocky's\", 62),\n",
       "  (\"rubio's\", 62),\n",
       "  (\"rapid ray's\", 59)],\n",
       " [('kfc', 100),\n",
       "  ('kfc / a&w', 60),\n",
       "  ('kfc / taco bell', 38),\n",
       "  ('kfc/taco bell', 38),\n",
       "  ('b k', 33),\n",
       "  ('pacific rim', 29),\n",
       "  ('chick-fil-a', 29),\n",
       "  ('fuku', 29),\n",
       "  (\"cody's cafe\", 29)],\n",
       " [('subway', 100),\n",
       "  ('subway®', 100),\n",
       "  ('subway guitars', 60),\n",
       "  ('subway sandwiches', 52),\n",
       "  (\"luby's\", 50),\n",
       "  ('sbarro', 50),\n",
       "  ('subway - roland park', 50),\n",
       "  (\"subway - bell's ferry\", 48),\n",
       "  (\"wendy's\", 46)],\n",
       " [(\"domino's pizza\", 100),\n",
       "  ('dominos pizza', 89),\n",
       "  (\"nino's pizza\", 85),\n",
       "  (\"gianni's pizza\", 71),\n",
       "  ('pizza one', 70),\n",
       "  (\"dewey's pizza\", 67),\n",
       "  (\"papa john's pizza\", 65),\n",
       "  ('papa john’s pizza', 65),\n",
       "  (\"papa gino's\", 64)]]"
      ]
     },
     "execution_count": 11,
     "metadata": {},
     "output_type": "execute_result"
    }
   ],
   "source": [
    "similar_name_list = list()\n",
    "for restuarant in restaurants_list:\n",
    "    query = data['lowername'].unique()\n",
    "    results = process.extract(restuarant, query, limit=9, scorer=fuzz.token_sort_ratio)\n",
    "    similar_name_list.append(results)\n",
    "similar_name_list\n",
    "\n",
    "##Check the token_sort_ratio upto the closed value.\n",
    "#mcdonald's - 58\n",
    "#burger king - 100\n",
    "#wendy's - 77"
   ]
  },
  {
   "cell_type": "code",
   "execution_count": 12,
   "metadata": {
    "collapsed": true
   },
   "outputs": [],
   "source": [
    "tokens = [57, 100, 100, 76, 90, 37, 50, 88]\n",
    "for token, restuarant in zip(tokens, restaurants_list):\n",
    "    replace_name(data,'lowername',restuarant, token)"
   ]
  },
  {
   "cell_type": "code",
   "execution_count": 13,
   "metadata": {
    "collapsed": true
   },
   "outputs": [],
   "source": [
    "data = replace_name(data,'lowername','kentucky fried chicken', 90)\n",
    "data.loc[data.lowername.str.startswith('kentucky fried chicken'), 'lowername'] = 'kfc'"
   ]
  },
  {
   "cell_type": "code",
   "execution_count": null,
   "metadata": {},
   "outputs": [],
   "source": [
    "sorted(data.lowername.unique())"
   ]
  },
  {
   "cell_type": "code",
   "execution_count": 14,
   "metadata": {
    "collapsed": true
   },
   "outputs": [],
   "source": [
    "data_top = data[data.lowername.isin(restaurants_list)]"
   ]
  },
  {
   "cell_type": "code",
   "execution_count": 15,
   "metadata": {},
   "outputs": [
    {
     "data": {
      "text/plain": [
       "mcdonald's        2120\n",
       "burger king       1154\n",
       "taco bell          873\n",
       "wendy's            734\n",
       "arby's             520\n",
       "kfc                457\n",
       "subway             413\n",
       "domino's pizza     359\n",
       "Name: lowername, dtype: int64"
      ]
     },
     "execution_count": 15,
     "metadata": {},
     "output_type": "execute_result"
    }
   ],
   "source": [
    "data_top.lowername.value_counts()"
   ]
  },
  {
   "cell_type": "markdown",
   "metadata": {
    "collapsed": true
   },
   "source": [
    "## Heatmaps"
   ]
  },
  {
   "cell_type": "markdown",
   "metadata": {},
   "source": [
    "### Heatmap of All Restaurants Data"
   ]
  },
  {
   "cell_type": "code",
   "execution_count": 16,
   "metadata": {},
   "outputs": [],
   "source": [
    "gmap = gmplot.GoogleMapPlotter.from_geocode('US',5)\n",
    "#Then generate a heatmap using the latitudes and longitudes\n",
    "gmap.heatmap(data['latitude'], data['longitude'])"
   ]
  },
  {
   "cell_type": "code",
   "execution_count": 17,
   "metadata": {},
   "outputs": [],
   "source": [
    "gmap.draw('full_list.html')"
   ]
  },
  {
   "cell_type": "markdown",
   "metadata": {},
   "source": [
    "### Heatmap of Top Restaurants Data"
   ]
  },
  {
   "cell_type": "code",
   "execution_count": 19,
   "metadata": {},
   "outputs": [],
   "source": [
    "gmap = gmplot.GoogleMapPlotter.from_geocode('US',5)\n",
    "#Then generate a heatmap using the latitudes and longitudes\n",
    "gmap.heatmap(data_top['latitude'], data_top['longitude'])"
   ]
  },
  {
   "cell_type": "code",
   "execution_count": 20,
   "metadata": {},
   "outputs": [],
   "source": [
    "gmap.draw('top_list.html')"
   ]
  },
  {
   "cell_type": "markdown",
   "metadata": {},
   "source": [
    "#### Heatmap"
   ]
  },
  {
   "cell_type": "markdown",
   "metadata": {},
   "source": [
    "![](files/Heatmap of Top Restaurants.png)"
   ]
  },
  {
   "cell_type": "markdown",
   "metadata": {},
   "source": [
    "## Provinces with most number of top restaurants"
   ]
  },
  {
   "cell_type": "code",
   "execution_count": 21,
   "metadata": {
    "scrolled": true
   },
   "outputs": [],
   "source": [
    "data_top = data_top[[\"country\", \"province\", \"city\", \"lowername\"]]"
   ]
  },
  {
   "cell_type": "code",
   "execution_count": 22,
   "metadata": {
    "scrolled": true
   },
   "outputs": [],
   "source": [
    "%matplotlib inline\n",
    "data_top_province = data_top.province.value_counts()"
   ]
  },
  {
   "cell_type": "code",
   "execution_count": 23,
   "metadata": {},
   "outputs": [],
   "source": [
    "data_top_province_list = list(data_top_province[data_top_province>200].index)"
   ]
  },
  {
   "cell_type": "code",
   "execution_count": 24,
   "metadata": {},
   "outputs": [],
   "source": [
    "data_top_province_top = data_top[data_top.province.isin(data_top_province_list)]"
   ]
  },
  {
   "cell_type": "code",
   "execution_count": 25,
   "metadata": {
    "scrolled": false
   },
   "outputs": [
    {
     "data": {
      "text/plain": [
       "<matplotlib.axes._subplots.AxesSubplot at 0x116ef4fd0>"
      ]
     },
     "execution_count": 25,
     "metadata": {},
     "output_type": "execute_result"
    },
    {
     "data": {
      "image/png": "[encoded data removed]",
      "text/plain": [
       "<matplotlib.figure.Figure at 0x116ef4898>"
      ]
     },
     "metadata": {},
     "output_type": "display_data"
    }
   ],
   "source": [
    "data_top_province_top_group = data_top_province_top.groupby(['province','lowername'])\n",
    "data_top_province_top_group.size().unstack().plot(kind ='bar', figsize =(16,7))"
   ]
  }
 ],
 "metadata": {
  "kernelspec": {
   "display_name": "Python 3",
   "language": "python",
   "name": "python3"
  },
  "language_info": {
   "codemirror_mode": {
    "name": "ipython",
    "version": 3
   },
   "file_extension": ".py",
   "mimetype": "text/x-python",
   "name": "python",
   "nbconvert_exporter": "python",
   "pygments_lexer": "ipython3",
   "version": "3.6.3"
  }
 },
 "nbformat": 4,
 "nbformat_minor": 2
}
